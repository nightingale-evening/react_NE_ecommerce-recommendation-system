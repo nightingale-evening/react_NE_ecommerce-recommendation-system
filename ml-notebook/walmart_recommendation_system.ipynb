{
 "cells": [
  {
   "cell_type": "markdown",
   "id": "MEC5z7U8Q7hL",
   "metadata": {
    "id": "MEC5z7U8Q7hL"
   },
   "source": [
    "**Walmart Recommendation System**\n",
    "\n",
    "---\n",
    "scope of the project:-\n",
    "\n",
    "> Providing effective recommendation system for end user.\n",
    "\n",
    "\n",
    "*   Data:- Kaggle\n",
    "*   Technique:- Content Base, Collaborative Filtering and Hybrid Recommendations\n",
    "*   Final data:- Export into .csv and json format\n",
    "*   Dump:- Result of technique dumped into .pickle format"
   ]
  },
  {
   "cell_type": "markdown",
   "id": "9huAvyckL0bc",
   "metadata": {
    "id": "9huAvyckL0bc"
   },
   "source": [
    "#Packages and Libraries"
   ]
  },
  {
   "cell_type": "code",
   "execution_count": null,
   "id": "5b38e4da-6f2a-43b6-a53b-d0ab2dc288b7",
   "metadata": {
    "id": "5b38e4da-6f2a-43b6-a53b-d0ab2dc288b7"
   },
   "outputs": [],
   "source": [
    "import pandas as pd\n",
    "import spacy\n",
    "from surprise import Dataset, Reader, SVD\n",
    "from sklearn.feature_extraction.text import TfidfVectorizer\n",
    "from sklearn.metrics.pairwise import linear_kernel, cosine_similarity\n",
    "from spacy.lang.en.stop_words import STOP_WORDS\n",
    "#pip install scikit-surprise"
   ]
  },
  {
   "cell_type": "markdown",
   "id": "XIfGXdzHMFy0",
   "metadata": {
    "id": "XIfGXdzHMFy0"
   },
   "source": [
    "#Data Loading And Preprocessing"
   ]
  },
  {
   "cell_type": "code",
   "execution_count": null,
   "id": "CSkJ-im5rs_O",
   "metadata": {
    "id": "CSkJ-im5rs_O"
   },
   "outputs": [],
   "source": [
    "from google.colab import drive\n",
    "drive.mount('/content/drive')"
   ]
  },
  {
   "cell_type": "code",
   "execution_count": null,
   "id": "GnvIhb2ctAam",
   "metadata": {
    "collapsed": true,
    "id": "GnvIhb2ctAam"
   },
   "outputs": [],
   "source": [
    "data = pd.read_csv(\"/content/drive/MyDrive/Colab Notebooks/Ml-Projects/recommendation-system/walmart_com_product_review_data.tsv\", sep='\\t')\n",
    "data.head(2)"
   ]
  },
  {
   "cell_type": "code",
   "execution_count": null,
   "id": "ggByFCwFvBgu",
   "metadata": {
    "collapsed": true,
    "id": "ggByFCwFvBgu"
   },
   "outputs": [],
   "source": [
    "data.columns"
   ]
  },
  {
   "cell_type": "code",
   "execution_count": null,
   "id": "f_s8RCAY0TNs",
   "metadata": {
    "collapsed": true,
    "id": "f_s8RCAY0TNs"
   },
   "outputs": [],
   "source": [
    "data.info()"
   ]
  },
  {
   "cell_type": "code",
   "execution_count": null,
   "id": "AI0K8NJG1oG3",
   "metadata": {
    "id": "AI0K8NJG1oG3"
   },
   "outputs": [],
   "source": [
    "data.describe()"
   ]
  },
  {
   "cell_type": "code",
   "execution_count": null,
   "id": "J5BXz1lR24UJ",
   "metadata": {
    "id": "J5BXz1lR24UJ"
   },
   "outputs": [],
   "source": [
    "data.shape"
   ]
  },
  {
   "cell_type": "code",
   "execution_count": null,
   "id": "3gOKVVLK24X9",
   "metadata": {
    "id": "3gOKVVLK24X9"
   },
   "outputs": [],
   "source": [
    "walmart_df = data[['Uniq Id','Product Id', 'Product Rating', 'Product Reviews Count', 'Product Category', 'Product Brand', 'Product Name', 'Product Image Url', 'Product Description', 'Product Price', 'Product Tags']]\n",
    "walmart_df.head(2)"
   ]
  },
  {
   "cell_type": "markdown",
   "id": "GCcPOMsPBbIk",
   "metadata": {
    "id": "GCcPOMsPBbIk"
   },
   "source": [
    "## Data Cleaning And Tags Creations"
   ]
  },
  {
   "cell_type": "code",
   "execution_count": null,
   "id": "P-oklrf924Rr",
   "metadata": {
    "id": "P-oklrf924Rr"
   },
   "outputs": [],
   "source": [
    "walmart_df.shape"
   ]
  },
  {
   "cell_type": "code",
   "execution_count": null,
   "id": "kL6LArki24O0",
   "metadata": {
    "id": "kL6LArki24O0"
   },
   "outputs": [],
   "source": [
    "walmart_df.isnull().sum()"
   ]
  },
  {
   "cell_type": "code",
   "execution_count": null,
   "id": "_3kDmdx0WADZ",
   "metadata": {
    "id": "_3kDmdx0WADZ"
   },
   "outputs": [],
   "source": [
    "walmart_df['Product Price'].describe()"
   ]
  },
  {
   "cell_type": "code",
   "execution_count": null,
   "id": "X_a93tDtWREK",
   "metadata": {
    "id": "X_a93tDtWREK"
   },
   "outputs": [],
   "source": [
    "walmart_df['Product Price'].mean().round(2).astype(int)"
   ]
  },
  {
   "cell_type": "code",
   "execution_count": null,
   "id": "IKUTRY3t24MI",
   "metadata": {
    "id": "IKUTRY3t24MI"
   },
   "outputs": [],
   "source": [
    "#productPrice = walmart_df['Product Price'].mean().astype(int)\n",
    "productPrice = walmart_df['Product Price'].mean().round(2).astype(int)\n",
    "walmart_df.fillna({'Product Rating': 0, 'Product Reviews Count': 0, 'Product Category': '', 'Product Brand':'', 'Product Description': ''}, inplace=True)\n",
    "walmart_df.fillna({'Product Price' : productPrice}, inplace=True)\n",
    "\n",
    "walmart_df.isnull().sum()"
   ]
  },
  {
   "cell_type": "code",
   "execution_count": null,
   "id": "zUVGeQ7zmvZo",
   "metadata": {
    "id": "zUVGeQ7zmvZo"
   },
   "outputs": [],
   "source": [
    "walmart_df['Product Tags'] = ''\n",
    "walmart_df.head(1)"
   ]
  },
  {
   "cell_type": "code",
   "execution_count": null,
   "id": "IHlll1ca2Ntb",
   "metadata": {
    "id": "IHlll1ca2Ntb"
   },
   "outputs": [],
   "source": [
    "walmart_df.duplicated().sum()"
   ]
  },
  {
   "cell_type": "code",
   "execution_count": null,
   "id": "i1od-N7R23-Z",
   "metadata": {
    "collapsed": true,
    "id": "i1od-N7R23-Z"
   },
   "outputs": [],
   "source": [
    "walmart_df['Uniq Id'] = walmart_df['Uniq Id'].str.extract(r'(\\d+)').astype(float)\n",
    "walmart_df['Uniq Id'] = walmart_df['Uniq Id'].astype(int)\n",
    "walmart_df['Product Id'] = walmart_df['Product Id'].str.extract(r'(\\d+)').astype(float)\n",
    "walmart_df['Product Id'] = walmart_df['Product Id'].astype(int)\n",
    "walmart_df['Product Reviews Count'] = walmart_df['Product Reviews Count'].astype(int)\n",
    "walmart_df.head(2)"
   ]
  },
  {
   "cell_type": "code",
   "execution_count": null,
   "id": "F7nuX6fqAFXX",
   "metadata": {
    "id": "F7nuX6fqAFXX"
   },
   "outputs": [],
   "source": [
    "num_users = walmart_df['Uniq Id'].nunique()\n",
    "num_items = walmart_df['Product Id'].nunique()\n",
    "num_ratings = walmart_df['Product Rating'].nunique()\n",
    "print(f\"Number of unique users: {num_users}\")\n",
    "print(f\"Number of unique items: {num_items}\")\n",
    "print(f\"Number of unique ratings: {num_ratings}\")"
   ]
  },
  {
   "cell_type": "code",
   "execution_count": null,
   "id": "5_s7YePyBDU9",
   "metadata": {
    "id": "5_s7YePyBDU9"
   },
   "outputs": [],
   "source": [
    "walmart_df.columns"
   ]
  },
  {
   "cell_type": "code",
   "execution_count": null,
   "id": "VWiOLKFTDgg1",
   "metadata": {
    "id": "VWiOLKFTDgg1"
   },
   "outputs": [],
   "source": [
    "tages_df = pd.DataFrame()\n",
    "columns_to_extract_tags_from = ['Product Category', 'Product Brand', 'Product Description']\n",
    "spacyNLP = spacy.load(\"en_core_web_sm\")\n",
    "def clean_and_extract_tags(text):\n",
    "    words = spacyNLP(text.lower())\n",
    "    tags = [token.text for token in words if token.text.isalnum() and token.text not in STOP_WORDS]\n",
    "    return ', '.join(tags)\n",
    "\n",
    "\n",
    "\n",
    "for column in columns_to_extract_tags_from:\n",
    "    tages_df[column] = walmart_df[column].apply(clean_and_extract_tags)\n"
   ]
  },
  {
   "cell_type": "code",
   "execution_count": null,
   "id": "AaCW9wLSWEcr",
   "metadata": {
    "collapsed": true,
    "id": "AaCW9wLSWEcr"
   },
   "outputs": [],
   "source": [
    "walmart_df['Product Tags'].head(2)"
   ]
  },
  {
   "cell_type": "code",
   "execution_count": null,
   "id": "6BbcKhyVYjt9",
   "metadata": {
    "id": "6BbcKhyVYjt9"
   },
   "outputs": [],
   "source": [
    "tages_df.head(2)"
   ]
  },
  {
   "cell_type": "code",
   "execution_count": null,
   "id": "CZTm-XcrTpAw",
   "metadata": {
    "collapsed": true,
    "id": "CZTm-XcrTpAw"
   },
   "outputs": [],
   "source": [
    "walmart_df['Product Tags'] = tages_df[columns_to_extract_tags_from].apply(lambda row: ', '.join(row), axis=1)"
   ]
  },
  {
   "cell_type": "code",
   "execution_count": null,
   "id": "xLVzPPUCWgns",
   "metadata": {
    "id": "xLVzPPUCWgns"
   },
   "outputs": [],
   "source": [
    "walmart_df['Product Tags'].head(2)"
   ]
  },
  {
   "cell_type": "code",
   "execution_count": null,
   "id": "F2pPzx4-DILf",
   "metadata": {
    "id": "F2pPzx4-DILf"
   },
   "outputs": [],
   "source": [
    "for df_index in walmart_df.index:\n",
    "  walmart_df._set_value(df_index, 'Product Image Url', walmart_df._get_value(df_index, 'Product Image Url').split(\"|\")[0])\n",
    "\n"
   ]
  },
  {
   "cell_type": "code",
   "execution_count": null,
   "id": "-v30o2snKX3S",
   "metadata": {
    "id": "-v30o2snKX3S"
   },
   "outputs": [],
   "source": [
    "walmart_df['Product Image Url'].head(2)"
   ]
  },
  {
   "cell_type": "markdown",
   "id": "x0kSaTMRLW1g",
   "metadata": {
    "id": "x0kSaTMRLW1g"
   },
   "source": [
    "#Content Base Recommendation system (User Preferences or Items similarities)"
   ]
  },
  {
   "cell_type": "code",
   "execution_count": null,
   "id": "7MC9jbr4Y6ff",
   "metadata": {
    "id": "7MC9jbr4Y6ff"
   },
   "outputs": [],
   "source": [
    "tfidf_vectorizer = TfidfVectorizer(stop_words='english')\n",
    "tfidf_vectorizer_matrix = tfidf_vectorizer.fit_transform(walmart_df['Product Tags'])\n",
    "cosine_similarities = cosine_similarity(tfidf_vectorizer_matrix, tfidf_vectorizer_matrix)\n",
    "linear_kernel_similarities = linear_kernel(tfidf_vectorizer_matrix, tfidf_vectorizer_matrix)"
   ]
  },
  {
   "cell_type": "code",
   "execution_count": null,
   "id": "2yO0wYE1fTT3",
   "metadata": {
    "collapsed": true,
    "id": "2yO0wYE1fTT3"
   },
   "outputs": [],
   "source": [
    "linear_kernel_similarities"
   ]
  },
  {
   "cell_type": "code",
   "execution_count": null,
   "id": "qcRipYxbffdA",
   "metadata": {
    "id": "qcRipYxbffdA"
   },
   "outputs": [],
   "source": [
    "item_name = 'OPI Infinite Shine, Nail Lacquer Nail Polish, Bubble Bath'\n",
    "item_name2='Kokie Professional Matte Lipstick, Hot Berry, 0.14 fl oz'\n",
    "top_n=10"
   ]
  },
  {
   "cell_type": "markdown",
   "id": "aSY9PAgONsDU",
   "metadata": {
    "id": "aSY9PAgONsDU"
   },
   "source": [
    "# Function To Recommend Products For Content Base Using  cosine_similarity"
   ]
  },
  {
   "cell_type": "code",
   "execution_count": null,
   "id": "WFPd7JmMFPj0",
   "metadata": {
    "id": "WFPd7JmMFPj0"
   },
   "outputs": [],
   "source": [
    "def get_content_based_cosine_similarity_recommendationsDF(content, top_n=10):\n",
    "    if content not in walmart_df['Product Name'].values:\n",
    "        print(f\"Item '{content}' not found in the training data.\")\n",
    "        return pd.DataFrame() # Return an empty DataFrame if no match is found\n",
    "\n",
    "\n",
    "    index = walmart_df[walmart_df['Product Name'] == content].index[0]\n",
    "    similarity_scores = list(enumerate(cosine_similarities[index]))\n",
    "    similar_items = sorted(similarity_scores, key=lambda x: x[1], reverse=True)[1:top_n+1]\n",
    "    similar_indices = [x[0] for x in similar_items]\n",
    "    recommendations = walmart_df.iloc[similar_indices][['Product Id','Product Name', 'Product Brand', 'Product Description', 'Product Category', 'Product Image Url', 'Product Price', 'Product Rating', 'Product Tags', 'Product Reviews Count']]\n",
    "\n",
    "    return recommendations\n"
   ]
  },
  {
   "cell_type": "code",
   "execution_count": null,
   "id": "A8RtZMgNVOJw",
   "metadata": {
    "id": "A8RtZMgNVOJw"
   },
   "outputs": [],
   "source": [
    "all_recommendations = []\n",
    "\n",
    "for product_name in walmart_df['Product Name']:\n",
    "    recommendations = get_content_based_cosine_similarity_recommendationsDF(product_name, top_n=10)\n",
    "\n",
    "    if not recommendations.empty:\n",
    "        recommendations['Source Product'] = product_name  # Add the original product for reference\n",
    "        all_recommendations.append(recommendations)\n",
    "\n",
    "# Combine all results into a single DataFrame\n",
    "similarity_recommendationsDF = pd.concat(all_recommendations, ignore_index=True)"
   ]
  },
  {
   "cell_type": "code",
   "execution_count": null,
   "id": "X6bioxFzW1_q",
   "metadata": {
    "collapsed": true,
    "id": "X6bioxFzW1_q"
   },
   "outputs": [],
   "source": [
    "similarity_recommendationsDF.head(10)"
   ]
  },
  {
   "cell_type": "code",
   "execution_count": null,
   "id": "Gl-bw_xspHiu",
   "metadata": {
    "id": "Gl-bw_xspHiu"
   },
   "outputs": [],
   "source": [
    "def get_content_based_cosine_similarity_recommendations(content, top_n=10):\n",
    "  if content not in walmart_df['Product Name'].values:\n",
    "    print(f\"Item '{content}' not found in the training data.\")\n",
    "    return pd.DataFrame() # Return an empty DataFrame if no match is found\n",
    "\n",
    "    index = walmart_df[walmart_df['Product Name'] == content].index[0]\n",
    "    similarity_scores = list(enumerate(cosine_similarities[index]))\n",
    "    similar_items = sorted(similarity_scores, key=lambda x: x[1], reverse=True)[1:top_n+1]\n",
    "    similar_indices = [x[0] for x in similar_items]\n",
    "    recommendations = walmart_df.iloc[similar_indices][['Product Id','Product Name', 'Product Brand', 'Product Image Url', 'Product Price', 'Product Rating', 'Product Reviews Count']]\n",
    "\n",
    "    return recommendations"
   ]
  },
  {
   "cell_type": "code",
   "execution_count": null,
   "id": "RJeKRq6zp8bL",
   "metadata": {
    "collapsed": true,
    "id": "RJeKRq6zp8bL"
   },
   "outputs": [],
   "source": [
    "get_content_based_cosine_similarity_recommendations(item_name, top_n)"
   ]
  },
  {
   "cell_type": "markdown",
   "id": "l5REoUCYOc8r",
   "metadata": {
    "id": "l5REoUCYOc8r"
   },
   "source": [
    "# Function To Recommend Products for Content Base Using  linear_kernel"
   ]
  },
  {
   "cell_type": "code",
   "execution_count": null,
   "id": "XH8emn6igB33",
   "metadata": {
    "id": "XH8emn6igB33"
   },
   "outputs": [],
   "source": [
    "def get_content_based_linear_kernel_recommendations(content, top_n=10):\n",
    "    if content not in walmart_df['Product Name'].values:\n",
    "        print(f\"Item '{content}' not found in the training data.\")\n",
    "        return pd.DataFrame()\n",
    "\n",
    "\n",
    "    index = walmart_df[walmart_df['Product Name'] == content].index[0]\n",
    "    similarity_scores = linear_kernel_similarities[index]\n",
    "    similar_indices = similarity_scores.argsort()[::-1][1:top_n + 1]\n",
    "    #recommendationsm = list(enumerate(walmart_df.loc[similar_indices, 'Product Id'].values))\n",
    "    recommendations = walmart_df.iloc[similar_indices][['Product Id','Product Name', 'Product Brand', 'Product Image Url','Product Price', 'Product Rating', 'Product Reviews Count']]\n",
    "\n",
    "    return recommendations"
   ]
  },
  {
   "cell_type": "code",
   "execution_count": null,
   "id": "1WmeELHbhkK7",
   "metadata": {
    "collapsed": true,
    "id": "1WmeELHbhkK7"
   },
   "outputs": [],
   "source": [
    "get_content_based_linear_kernel_recommendations(item_name2, top_n)"
   ]
  },
  {
   "cell_type": "markdown",
   "id": "8r2nmjT5Mr0r",
   "metadata": {
    "id": "8r2nmjT5Mr0r"
   },
   "source": [
    "#Converting Data Into Final Sheets"
   ]
  },
  {
   "cell_type": "code",
   "execution_count": null,
   "id": "DlX5KooEXMVe",
   "metadata": {
    "id": "DlX5KooEXMVe"
   },
   "outputs": [],
   "source": [
    "walmart_df.to_csv(\"/content/drive/MyDrive/Colab Notebooks/Ml-Projects/recommendation-system/walmart_final.csv\")\n",
    "similarity_recommendationsDF.to_json(\"/content/drive/MyDrive/Colab Notebooks/Ml-Projects/recommendation-system/recommendations.json\", orient=\"records\")\n",
    "#similarity_recommendationsDF.to_csv(\"/content/drive/MyDrive/Colab Notebooks/Ml-Projects/recommendation-system/walmart_final_similarity_recommendations.cvs\")\n",
    "#walmart_df.to_excel(\"/content/drive/MyDrive/Colab Notebooks/Ml-Projects/recommendation-system/walmart_final.xlsx\")"
   ]
  },
  {
   "cell_type": "markdown",
   "id": "uLwyJrUzO0V4",
   "metadata": {
    "id": "uLwyJrUzO0V4"
   },
   "source": [
    "# Collaborative Filtering"
   ]
  },
  {
   "cell_type": "code",
   "execution_count": null,
   "id": "T1V49I9Av_rE",
   "metadata": {
    "id": "T1V49I9Av_rE"
   },
   "outputs": [],
   "source": [
    "collaborativeFiltering_df = walmart_df\n",
    "reader = Reader(rating_scale=(1, 5))\n",
    "collaborativeFiltering_df = Dataset.load_from_df(collaborativeFiltering_df[['Uniq Id',\n",
    "                                  'Product Id',\n",
    "                                  'Product Rating']], reader)"
   ]
  },
  {
   "cell_type": "code",
   "execution_count": null,
   "id": "9M0uwZmLoF7r",
   "metadata": {
    "id": "9M0uwZmLoF7r"
   },
   "outputs": [],
   "source": [
    "algo = SVD()\n",
    "trainset =  collaborativeFiltering_df.build_full_trainset()\n",
    "algo.fit(trainset)\n",
    "\n",
    "def get_collaborative_filtering_recommendations(user_id, top_n):\n",
    "    testset = trainset.build_anti_testset()\n",
    "    testset = filter(lambda x: x[0] == user_id, testset)\n",
    "    predictions = algo.test(testset)\n",
    "    predictions.sort(key=lambda x: x.est, reverse=True)\n",
    "    similar_indices = [prediction.iid for prediction in predictions[:top_n]]\n",
    "    recommendations = walmart_df.iloc[similar_indices][['Product Id','Product Name', 'Product Brand', 'Product Image Url', 'Product Rating', 'Product Reviews Count']]\n",
    "    return recommendations"
   ]
  },
  {
   "cell_type": "code",
   "execution_count": null,
   "id": "7Rx2fHxQxVfc",
   "metadata": {
    "id": "7Rx2fHxQxVfc"
   },
   "outputs": [],
   "source": [
    "user_id =70\n",
    "get_collaborative_filtering_recommendations(user_id, 2)"
   ]
  },
  {
   "cell_type": "markdown",
   "id": "EqfllU4hO5g1",
   "metadata": {
    "id": "EqfllU4hO5g1"
   },
   "source": [
    "# Hybrid Approach"
   ]
  },
  {
   "cell_type": "code",
   "execution_count": null,
   "id": "a9eXZ33uxeAl",
   "metadata": {
    "id": "a9eXZ33uxeAl"
   },
   "outputs": [],
   "source": [
    "def get_hybrid_recommendations(user_id, content, top_n):\n",
    "    content_based_recommendations = get_content_based_linear_kernel_recommendations(content, top_n)\n",
    "    collaborative_filtering_recommendations = get_collaborative_filtering_recommendations(user_id, top_n)\n",
    "    hybrid_recommendations = pd.concat([content_based_recommendations,collaborative_filtering_recommendations]).drop_duplicates()\n",
    "\n",
    "    return hybrid_recommendations[:top_n]\n",
    "\n"
   ]
  },
  {
   "cell_type": "code",
   "execution_count": null,
   "id": "bjaQFhGt1fou",
   "metadata": {
    "id": "bjaQFhGt1fou"
   },
   "outputs": [],
   "source": [
    "user_id = 70\n",
    "item_name = 'OPI Infinite Shine, Nail Lacquer Nail Polish, Bubble Bath'\n",
    "item_name2='Kokie Professional Matte Lipstick, Hot Berry, 0.14 fl oz'\n",
    "top_n=2\n",
    "\n",
    "recommendations = get_hybrid_recommendations(user_id, item_name, top_n)\n",
    "\n",
    "print(f\"Hybrid Recommendations for User {user_id} based on Product {item_name2}:\")\n",
    "recommendations\n",
    "#for i, recommendation in enumerate(recommendations):\n",
    "#    print(f\"{i + 1}. Product ID: {recommendation}\")"
   ]
  },
  {
   "cell_type": "markdown",
   "id": "mY4tLUGk8zBm",
   "metadata": {
    "id": "mY4tLUGk8zBm"
   },
   "source": [
    "# Split DatFrame In Train And Test"
   ]
  },
  {
   "cell_type": "code",
   "execution_count": null,
   "id": "0rQBDqkE8z3o",
   "metadata": {
    "id": "0rQBDqkE8z3o"
   },
   "outputs": [],
   "source": [
    "#walmartTrainTest_df = walmart_df\n",
    "#walmartTrainTest_df.head(2)"
   ]
  },
  {
   "cell_type": "code",
   "execution_count": null,
   "id": "bnfzBTck-Dg7",
   "metadata": {
    "id": "bnfzBTck-Dg7"
   },
   "outputs": [],
   "source": [
    "#x = walmartTrainTest_df.drop(['Product Tags'], axis=1)\n",
    "#y = walmartTrainTest_df['Product Tags']"
   ]
  },
  {
   "cell_type": "code",
   "execution_count": null,
   "id": "f1jn4Gze-JgL",
   "metadata": {
    "id": "f1jn4Gze-JgL"
   },
   "outputs": [],
   "source": [
    "#from sklearn.model_selection import train_test_split"
   ]
  },
  {
   "cell_type": "markdown",
   "id": "b7bIBci5PBMR",
   "metadata": {
    "id": "b7bIBci5PBMR"
   },
   "source": [
    "# Save Model"
   ]
  },
  {
   "cell_type": "code",
   "execution_count": null,
   "id": "2MBGTwcGXwx-",
   "metadata": {
    "id": "2MBGTwcGXwx-"
   },
   "outputs": [],
   "source": [
    "import pickle\n",
    "pickle.dump(similarity_recommendationsDF, open('/content/drive/MyDrive/Colab Notebooks/Ml-Projects/recommendation-system/walmart_cosine_similarities.pickle', 'wb'))\n",
    "pickle.dump(linear_kernel_similarities, open('/content/drive/MyDrive/Colab Notebooks/Ml-Projects/recommendation-system/walmart_linear_kernel_similarities.pickle', 'wb'))\n"
   ]
  }
 ],
 "metadata": {
  "accelerator": "GPU",
  "colab": {
   "gpuType": "T4",
   "provenance": []
  },
  "kernelspec": {
   "display_name": "Python 3",
   "name": "python3"
  },
  "language_info": {
   "codemirror_mode": {
    "name": "ipython",
    "version": 3
   },
   "file_extension": ".py",
   "mimetype": "text/x-python",
   "name": "python",
   "nbconvert_exporter": "python",
   "pygments_lexer": "ipython3",
   "version": "3.11.9"
  }
 },
 "nbformat": 4,
 "nbformat_minor": 5
}
